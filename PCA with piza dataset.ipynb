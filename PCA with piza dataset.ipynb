{
 "cells": [
  {
   "cell_type": "code",
   "execution_count": 1,
   "metadata": {},
   "outputs": [],
   "source": [
    "import numpy as np\n",
    "import matplotlib.pyplot as plt\n",
    "import pandas as pd\n",
    "from sklearn.preprocessing import scale\n",
    "from sklearn.decomposition import PCA\n",
    "import seaborn as sns"
   ]
  },
  {
   "cell_type": "code",
   "execution_count": 2,
   "metadata": {},
   "outputs": [],
   "source": [
    "def calcWithinGroupsVariance(variable, groupvariable):\n",
    "    # find out how many values the group variable can take\n",
    "    levels = sorted(set(groupvariable))\n",
    "    numlevels = len(levels)\n",
    "    # get the mean and standard deviation for each group:\n",
    "    numtotal = 0\n",
    "    denomtotal = 0\n",
    "    for leveli in levels:\n",
    "        levelidata = variable[groupvariable==leveli]\n",
    "        levelilength = len(levelidata)\n",
    "        # get the standard deviation for group i:\n",
    "        sdi = np.std(levelidata)\n",
    "        numi = (levelilength)*sdi**2\n",
    "        denomi = levelilength\n",
    "        numtotal = numtotal + numi\n",
    "        denomtotal = denomtotal + denomi\n",
    "    # calculate the within-groups variance\n",
    "    Vw = numtotal / (denomtotal - numlevels)\n",
    "    return Vw"
   ]
  },
  {
   "cell_type": "code",
   "execution_count": 3,
   "metadata": {},
   "outputs": [],
   "source": [
    "def calcBetweenGroupsVariance(variable, groupvariable):\n",
    "    # find out how many values the group variable can take\n",
    "    levels = sorted(set((groupvariable)))\n",
    "    numlevels = len(levels)\n",
    "    # calculate the overall grand mean:\n",
    "    grandmean = np.mean(variable)\n",
    "    # get the mean and standard deviation for each group:\n",
    "    numtotal = 0\n",
    "    denomtotal = 0\n",
    "    for leveli in levels:\n",
    "        levelidata = variable[groupvariable==leveli]\n",
    "        levelilength = len(levelidata)\n",
    "        # get the mean and standard deviation for group i:\n",
    "        meani = np.mean(levelidata)\n",
    "        sdi = np.std(levelidata)\n",
    "        numi = levelilength * ((meani - grandmean)**2)\n",
    "        denomi = levelilength\n",
    "        numtotal = numtotal + numi\n",
    "        denomtotal = denomtotal + denomi\n",
    "    # calculate the between-groups variance\n",
    "    Vb = numtotal / (numlevels - 1)\n",
    "    return(Vb)"
   ]
  },
  {
   "cell_type": "code",
   "execution_count": 4,
   "metadata": {},
   "outputs": [],
   "source": [
    "def mosthighlycorrelated(mydataframe, numtoreport):\n",
    "    # find the correlations\n",
    "    cormatrix = mydataframe.corr()\n",
    "    # set the correlations on the diagonal or lower triangle to zero,\n",
    "    # so they will not be reported as the highest ones:\n",
    "    cormatrix *= np.tri(*cormatrix.values.shape, k=-1).T\n",
    "    # find the top n correlations\n",
    "    cormatrix = cormatrix.stack()\n",
    "    cormatrix = cormatrix.reindex(cormatrix.abs().sort_values(ascending=False).index).reset_index()\n",
    "    # assign human-friendly names\n",
    "    cormatrix.columns = [\"FirstVariable\", \"SecondVariable\", \"Correlation\"]\n",
    "    return cormatrix.head(numtoreport)"
   ]
  },
  {
   "cell_type": "code",
   "execution_count": 5,
   "metadata": {},
   "outputs": [],
   "source": [
    "def pca_summary(pca, standardised_data, out=True):\n",
    "    names = [\"PC\"+str(i) for i in range(1,len(pca.explained_variance_ratio_)+1)]\n",
    "    a = list(np.std(pca.transform(standardised_data), axis=0))\n",
    "    b = list(pca.explained_variance_ratio_)\n",
    "    c = [np.sum(pca.explained_variance_ratio_[:i]) for i in range(1, len(pca.explained_variance_ratio_)+1)]\n",
    "    columns = pd.MultiIndex.from_tuples([(\"sdev\", \"Standard deviation\"), (\"varprop\", \"Proportion of Variance\"), (\"cumprop\", \"Cumulative Proportion\")])\n",
    "    summary = pd.DataFrame(zip(a, b, c), index=names, columns=columns)\n",
    "    if out:\n",
    "        print(\"Importance of components:\")\n",
    "    return summary"
   ]
  },
  {
   "cell_type": "code",
   "execution_count": 6,
   "metadata": {},
   "outputs": [],
   "source": [
    "def screeplot(pca, standardised_values):\n",
    "    y = np.std(pca.transform(standardised_values), axis=0)**2\n",
    "    x = np.arange(len(y)) + 1\n",
    "    plt.plot(x, y, \"o-\")\n",
    "    plt.xticks(x, [\"Comp.\"+str(i) for i in x], rotation=60)\n",
    "    plt.ylabel(\"Variance\")\n",
    "    plt.show()"
   ]
  },
  {
   "cell_type": "code",
   "execution_count": 7,
   "metadata": {},
   "outputs": [],
   "source": [
    "def calcpc(variables, loadings):\n",
    "    # find the number of samples in the data set and the number of variables\n",
    "    numsamples, numvariables = variables.shape\n",
    "    # make a vector to store the component\n",
    "    pc = np.zeros(numsamples)\n",
    "    # calculate the value of the component for each sample\n",
    "    for i in range(numsamples):\n",
    "        valuei = 0\n",
    "        for j in range(numvariables):\n",
    "            valueij = variables.iloc[i, j]\n",
    "            loadingj = loadings[j]\n",
    "            valuei = valuei + (valueij * loadingj)\n",
    "        pc[i] = valuei\n",
    "    return pc"
   ]
  },
  {
   "cell_type": "code",
   "execution_count": 8,
   "metadata": {},
   "outputs": [],
   "source": [
    "def pca_scatter(pca, standardised_values, classifs):\n",
    "    foo = pca.transform(standardised_values)\n",
    "    bar = pd.DataFrame(zip(foo[:, 0], foo[:, 1], classifs), columns=[\"PC1\", \"PC2\", \"Class\"])\n",
    "    sns.lmplot(\"PC1\", \"PC2\", bar, hue=\"Class\", fit_reg=False)\n",
    "    plt.show()"
   ]
  },
  {
   "cell_type": "code",
   "execution_count": 14,
   "metadata": {},
   "outputs": [
    {
     "name": "stdout",
     "output_type": "stream",
     "text": [
      "    V1     V3     V4     V5    V6    V7     V8    V9\n",
      "0    A  27.82  21.43  44.87  5.11  1.77   0.77  4.93\n",
      "1    A  28.49  21.26  43.89  5.34  1.79   1.02  4.84\n",
      "2    A  28.35  19.99  45.78  5.08  1.63   0.80  4.95\n",
      "3    A  30.55  20.15  43.13  4.79  1.61   1.38  4.74\n",
      "4    A  30.49  21.28  41.65  4.82  1.64   1.76  4.67\n",
      "..  ..    ...    ...    ...   ...   ...    ...   ...\n",
      "295  J  44.91  11.07  17.00  2.49  0.66  25.36  2.91\n",
      "296  J  43.15  11.79  18.46  2.43  0.67  24.17  3.10\n",
      "297  J  44.55  11.01  16.03  2.43  0.64  25.98  2.92\n",
      "298  J  47.60  10.43  15.18  2.32  0.56  24.47  2.76\n",
      "299  J  46.84   9.91  15.50  2.27  0.57  25.48  2.81\n",
      "\n",
      "[300 rows x 8 columns]\n"
     ]
    }
   ],
   "source": [
    "data = pd.read_csv(\"D:\\Python\\Pizza.csv\")\n",
    "data.columns = [\"V\"+str(i) for i in range(1, len(data.columns)+1)]  # rename column names to be similar to R naming convention\n",
    "del data['V2']\n",
    "print(data)"
   ]
  },
  {
   "cell_type": "code",
   "execution_count": 15,
   "metadata": {},
   "outputs": [
    {
     "name": "stdout",
     "output_type": "stream",
     "text": [
      "                  sdev                varprop               cumprop\n",
      "    Standard deviation Proportion of Variance Cumulative Proportion\n",
      "PC1           2.042494               0.595969              0.595969\n",
      "PC2           1.513426               0.327208              0.923177\n",
      "PC3           0.643865               0.059223              0.982400\n",
      "PC4           0.308503               0.013596              0.995997\n",
      "PC5           0.166364               0.003954              0.999950\n",
      "PC6           0.018374               0.000048              0.999999\n",
      "PC7           0.003085               0.000001              1.000000\n"
     ]
    }
   ],
   "source": [
    "X = data.loc[:,\"V3\":] # independent variables data\n",
    "y = data.V1 # dependent variable data\n",
    "standardisedX = scale(X)\n",
    "standardisedX = pd.DataFrame(standardisedX, index=X.index, columns=X.columns)\n",
    "pca = PCA().fit(standardisedX)\n",
    "summary = pca_summary(pca, standardisedX,False)\n",
    "print(summary)"
   ]
  },
  {
   "cell_type": "code",
   "execution_count": 20,
   "metadata": {},
   "outputs": [
    {
     "data": {
      "image/png": "[encoded data removed]",
      "text/plain": [
       "<Figure size 432x288 with 1 Axes>"
      ]
     },
     "metadata": {
      "needs_background": "light"
     },
     "output_type": "display_data"
    },
    {
     "name": "stdout",
     "output_type": "stream",
     "text": [
      "     Standard deviation\n",
      "PC1            4.171782\n",
      "PC2            2.290457\n",
      "PC3            0.414562\n",
      "PC4            0.095174\n",
      "PC5            0.027677\n",
      "PC6            0.000338\n",
      "PC7            0.000010\n",
      "     Cumulative Proportion\n",
      "PC1               0.595969\n",
      "PC2               0.923177\n",
      "PC3               0.982400\n",
      "PC4               0.995997\n",
      "PC5               0.999950\n",
      "PC6               0.999999\n",
      "PC7               1.000000\n"
     ]
    }
   ],
   "source": [
    "screeplot(pca, standardisedX)\n",
    "print(summary.sdev**2)\n",
    "print(summary.cumprop)"
   ]
  },
  {
   "attachments": {},
   "cell_type": "markdown",
   "metadata": {},
   "source": [
    "## Loadings for the Principal Components"
   ]
  },
  {
   "cell_type": "code",
   "execution_count": 22,
   "metadata": {},
   "outputs": [
    {
     "name": "stdout",
     "output_type": "stream",
     "text": [
      "[ 0.06470937  0.3787609   0.44666592  0.47188953  0.43570289 -0.42491371\n",
      "  0.2444873 ]\n",
      "[-0.62827587 -0.26970665  0.23437908 -0.11099042  0.20166165  0.32031208\n",
      "  0.56745756]\n"
     ]
    }
   ],
   "source": [
    "print(pca.components_[0])\n",
    "print(pca.components_[1])"
   ]
  },
  {
   "cell_type": "code",
   "execution_count": 24,
   "metadata": {},
   "outputs": [
    {
     "name": "stdout",
     "output_type": "stream",
     "text": [
      "[ 5.01034284  5.02375538  4.8054393   4.4695434   4.47189256  4.50479978\n",
      "  4.31535781  4.75785167  4.85461934  4.91640631  4.84099582  4.89136871\n",
      "  4.61075407  4.42153254  4.46677678  4.75343467  4.44513083  4.20201792\n",
      "  4.49687192  4.60756167  4.85726834  4.82265249  4.51834142  4.25395639\n",
      "  4.48975064  4.5415983   4.63411775  4.46880183  4.75034835  1.86118455\n",
      "  1.31234408  1.76567377  1.67139319  1.59326652  1.75214117  1.79769844\n",
      "  1.286141    0.98536152  1.59570217  1.66692136  1.6845547   1.79800953\n",
      "  1.75061615  1.01729263  0.96090738  1.06044938  1.69385387  1.83131552\n",
      "  1.52979499  1.62269178  1.78981468  1.72759525  1.79232263  1.77583723\n",
      "  1.22040739  1.54381467  1.70900086  1.75775457  1.2110394   1.28189732\n",
      "  1.3733351   1.15302122  1.14451053  1.22366524  1.24542212  0.89628008\n",
      "  1.01190454  1.30418459  0.64245467  1.15053786  0.89464272  0.96134848\n",
      "  1.59575164  1.29185378  1.06187896  0.81162826  1.02066449  1.38747555\n",
      "  1.3004686   1.32731252  1.02507197  0.57003212  0.58796339  0.77893632\n",
      "  1.53905599  0.80177424  0.98012931  2.05211762  2.06438087  1.5052601\n",
      "  1.24749992  1.51913478  1.92763776  1.36683591  1.43567138  0.99351428\n",
      "  1.56222022  1.42930017  1.42246877  1.31593828  2.28875406  2.30757369\n",
      "  2.30945294  1.50415072  1.40720989  1.42095785  1.42922317  1.48619291\n",
      "  1.42176713  1.32625034  2.10986662  1.33652814  2.27647626  1.26515249\n",
      "  1.89472139  2.09497349  1.95422658  1.90883414  1.38747555 -1.78508374\n",
      " -1.61239519 -1.72068915 -2.48791824 -1.8109961  -2.55407381 -1.96003658\n",
      " -1.53132552 -1.68835128 -1.68275918 -1.72115025 -1.89115326 -1.40000925\n",
      " -1.43569567 -1.26143793 -1.83301609 -1.93492686 -1.26143793 -1.72794962\n",
      " -1.7244848  -1.43597176 -1.49475568 -1.36474412 -1.38808848 -1.40866022\n",
      " -2.21483101 -1.72115025 -1.88259866 -1.46176163 -1.74262567 -1.82386905\n",
      " -1.29320992 -1.52679042 -1.70600919 -1.78120934 -1.9159626  -1.7548986\n",
      " -1.77381037 -1.34013776 -1.82897798 -1.26554737 -1.77362596 -1.75798096\n",
      " -1.57668271 -1.33563644 -1.86527936 -1.48422146 -1.82705147 -1.90681569\n",
      " -2.0054374  -1.68916325 -1.68852808 -1.56720682 -1.64586028 -1.61927471\n",
      " -1.51862602 -1.43148972 -1.76529924 -1.78006573 -1.85706588 -1.95961646\n",
      " -1.83698414 -1.38360389 -1.73684415 -1.70868691 -1.66249781 -1.75385116\n",
      " -1.69747723 -1.87219755 -1.77392544 -1.79271438 -2.07773887 -1.39273705\n",
      " -1.74064578 -1.83538915 -1.87040601 -1.61152137 -1.8272382  -1.55144024\n",
      " -1.70514357 -1.91259534 -1.64339653 -1.70995766 -1.79381644 -1.63162961\n",
      " -1.99366242 -1.72960314 -2.05457894 -1.42110446 -1.72735856 -2.46135481\n",
      " -1.67792916 -1.71553084 -2.58592076 -1.63071628 -1.81455163 -1.85852939\n",
      " -2.65253119 -1.55093331 -1.76595288 -1.91832982 -1.9765523  -1.9303685\n",
      " -1.8613956  -1.74884966 -1.777316   -1.85957783 -1.82455102 -1.4751276\n",
      " -1.56397293 -1.83728493 -1.54097929 -1.73577427 -1.63183372 -1.76030188\n",
      " -1.9925099  -1.65053703 -2.18602505 -1.88947244 -1.82455102 -1.05804675\n",
      " -1.17381538 -1.17676152 -1.08067697 -1.08082925 -1.27156168 -1.43675857\n",
      " -1.17953128 -1.22977033 -0.76354275 -1.06206422 -1.00623159 -1.06754583\n",
      " -1.0355188  -1.12707766 -1.14885185 -1.16981983 -1.21342305 -1.20143617\n",
      " -1.12536416 -1.00266003 -1.06710957 -1.13594463 -1.12832969 -1.39298342\n",
      " -1.0718804  -1.18699051 -1.13101006 -1.16269076 -0.6172551  -0.59533164\n",
      " -0.86507827 -0.89586841 -0.94224564 -0.98478039 -0.64332788 -0.68280123\n",
      " -0.59736861 -0.78648108 -0.60052047 -0.84528602 -0.67318968 -0.60597823\n",
      " -0.67617005 -0.77069653 -0.27652681 -0.57370386 -0.64554694 -0.6460682\n",
      " -0.63121056 -0.75600102 -0.71445442 -0.77623091 -0.96630712 -0.64512233\n",
      " -0.36541955 -0.53550974 -0.33963616 -0.6464327  -0.86507827 -0.89586841]\n"
     ]
    }
   ],
   "source": [
    "print(calcpc(standardisedX, pca.components_[0]))\n",
    "#print(calcpc(standardisedX, pca.components_[1]))"
   ]
  },
  {
   "cell_type": "code",
   "execution_count": 25,
   "metadata": {},
   "outputs": [
    {
     "data": {
      "image/png": "[encoded data removed]",
      "text/plain": [
       "<Figure size 403.75x360 with 1 Axes>"
      ]
     },
     "metadata": {
      "needs_background": "light"
     },
     "output_type": "display_data"
    }
   ],
   "source": [
    "pca_scatter(pca, standardisedX, y)"
   ]
  },
  {
   "cell_type": "code",
   "execution_count": null,
   "metadata": {},
   "outputs": [],
   "source": []
  }
 ],
 "metadata": {
  "kernelspec": {
   "display_name": "Python 3",
   "language": "python",
   "name": "python3"
  },
  "language_info": {
   "codemirror_mode": {
    "name": "ipython",
    "version": 3
   },
   "file_extension": ".py",
   "mimetype": "text/x-python",
   "name": "python",
   "nbconvert_exporter": "python",
   "pygments_lexer": "ipython3",
   "version": "3.8.3"
  }
 },
 "nbformat": 4,
 "nbformat_minor": 4
}
