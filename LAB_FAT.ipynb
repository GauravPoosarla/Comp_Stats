{
 "cells": [
  {
   "cell_type": "markdown",
   "metadata": {},
   "source": [
    "# Question 5"
   ]
  },
  {
   "cell_type": "code",
   "execution_count": 1,
   "metadata": {},
   "outputs": [],
   "source": [
    "import numpy as np\n",
    "import matplotlib.pyplot as plt\n",
    "import pandas as pd\n",
    "from sklearn.preprocessing import scale\n",
    "from sklearn.decomposition import PCA\n",
    "import seaborn as sns"
   ]
  },
  {
   "cell_type": "code",
   "execution_count": 2,
   "metadata": {},
   "outputs": [],
   "source": [
    "def pca_summary(pca, standardised_data, out=True):\n",
    "    names = [\"PC\"+str(i) for i in range(1,len(pca.explained_variance_ratio_)+1)]\n",
    "    a = list(np.std(pca.transform(standardised_data), axis=0))\n",
    "    b = list(pca.explained_variance_ratio_)\n",
    "    c = [np.sum(pca.explained_variance_ratio_[:i]) for i in range(1, len(pca.explained_variance_ratio_)+1)]\n",
    "    columns = pd.MultiIndex.from_tuples([(\"sdev\", \"Standard deviation\"), (\"varprop\", \"Proportion of Variance\"), (\"cumprop\", \"Cumulative Proportion\")])\n",
    "    summary = pd.DataFrame(zip(a, b, c), index=names, columns=columns)\n",
    "    if out:\n",
    "        print(\"Importance of components:\")\n",
    "    return summary"
   ]
  },
  {
   "cell_type": "code",
   "execution_count": 3,
   "metadata": {},
   "outputs": [],
   "source": [
    "def screeplot(pca, standardised_values):\n",
    "    y = np.std(pca.transform(standardised_values), axis=0)**2\n",
    "    x = np.arange(len(y)) + 1\n",
    "    plt.plot(x, y, \"o-\")\n",
    "    plt.xticks(x, [\"Comp.\"+str(i) for i in x], rotation=60)\n",
    "    plt.ylabel(\"Variance\")\n",
    "    plt.show()"
   ]
  },
  {
   "cell_type": "code",
   "execution_count": 4,
   "metadata": {},
   "outputs": [],
   "source": [
    "def calcpc(variables, loadings):\n",
    "    # find the number of samples in the data set and the number of variables\n",
    "    numsamples, numvariables = variables.shape\n",
    "    # make a vector to store the component\n",
    "    pc = np.zeros(numsamples)\n",
    "    # calculate the value of the component for each sample\n",
    "    for i in range(numsamples):\n",
    "        valuei = 0\n",
    "        for j in range(numvariables):\n",
    "            valueij = variables.iloc[i, j]\n",
    "            loadingj = loadings[j]\n",
    "            valuei = valuei + (valueij * loadingj)\n",
    "        pc[i] = valuei\n",
    "    return pc"
   ]
  },
  {
   "cell_type": "code",
   "execution_count": 5,
   "metadata": {},
   "outputs": [],
   "source": [
    "def pca_scatter(pca, standardised_values, classifs, main):\n",
    "    foo = pca.transform(standardised_values)\n",
    "    bar = pd.DataFrame(zip(foo[:, 0], foo[:, 1], classifs), columns=[\"PC1\", \"PC2\", \"Class\"])\n",
    "    sns.lmplot(\"PC1\", \"PC2\", bar, hue=\"Class\", fit_reg=False)\n",
    "    plt.title(main)\n",
    "    plt.show()\n",
    "    return bar"
   ]
  },
  {
   "cell_type": "markdown",
   "metadata": {},
   "source": [
    "# DATAFRAME CREATED"
   ]
  },
  {
   "cell_type": "code",
   "execution_count": 8,
   "metadata": {},
   "outputs": [
    {
     "name": "stdout",
     "output_type": "stream",
     "text": [
      "     V1  V2     V3     V4     V5     V6     V7    V8\n",
      "0     2   3  12669   9656   7561    214   2674  1338\n",
      "1     2   3   7057   9810   9568   1762   3293  1776\n",
      "2     2   3   6353   8808   7684   2405   3516  7844\n",
      "3     1   3  13265   1196   4221   6404    507  1788\n",
      "4     2   3  22615   5410   7198   3915   1777  5185\n",
      "..   ..  ..    ...    ...    ...    ...    ...   ...\n",
      "435   1   3  29703  12051  16027  13135    182  2204\n",
      "436   1   3  39228   1431    764   4510     93  2346\n",
      "437   2   3  14531  15488  30243    437  14841  1867\n",
      "438   1   3  10290   1981   2232   1038    168  2125\n",
      "439   1   3   2787   1698   2510     65    477    52\n",
      "\n",
      "[440 rows x 8 columns]\n"
     ]
    }
   ],
   "source": [
    "data = pd.read_csv(\"Wholesale customers data.csv\")\n",
    "data.columns = [\"V\"+str(i) for i in range(1, len(data.columns)+1)]  # rename column names to be similar to R naming convention\n",
    "print(data)"
   ]
  },
  {
   "cell_type": "markdown",
   "metadata": {},
   "source": [
    "# KEY VALUES IN DATASET"
   ]
  },
  {
   "cell_type": "code",
   "execution_count": 9,
   "metadata": {},
   "outputs": [
    {
     "data": {
      "text/plain": [
       "Index(['V1', 'V2', 'V3', 'V4', 'V5', 'V6', 'V7', 'V8'], dtype='object')"
      ]
     },
     "execution_count": 9,
     "metadata": {},
     "output_type": "execute_result"
    }
   ],
   "source": [
    "data.keys()"
   ]
  },
  {
   "cell_type": "markdown",
   "metadata": {},
   "source": [
    "# HEAD VALUES"
   ]
  },
  {
   "cell_type": "code",
   "execution_count": 10,
   "metadata": {},
   "outputs": [
    {
     "data": {
      "text/html": [
       "<div>\n",
       "<style scoped>\n",
       "    .dataframe tbody tr th:only-of-type {\n",
       "        vertical-align: middle;\n",
       "    }\n",
       "\n",
       "    .dataframe tbody tr th {\n",
       "        vertical-align: top;\n",
       "    }\n",
       "\n",
       "    .dataframe thead th {\n",
       "        text-align: right;\n",
       "    }\n",
       "</style>\n",
       "<table border=\"1\" class=\"dataframe\">\n",
       "  <thead>\n",
       "    <tr style=\"text-align: right;\">\n",
       "      <th></th>\n",
       "      <th>V1</th>\n",
       "      <th>V2</th>\n",
       "      <th>V3</th>\n",
       "      <th>V4</th>\n",
       "      <th>V5</th>\n",
       "      <th>V6</th>\n",
       "      <th>V7</th>\n",
       "      <th>V8</th>\n",
       "    </tr>\n",
       "  </thead>\n",
       "  <tbody>\n",
       "    <tr>\n",
       "      <th>0</th>\n",
       "      <td>2</td>\n",
       "      <td>3</td>\n",
       "      <td>12669</td>\n",
       "      <td>9656</td>\n",
       "      <td>7561</td>\n",
       "      <td>214</td>\n",
       "      <td>2674</td>\n",
       "      <td>1338</td>\n",
       "    </tr>\n",
       "    <tr>\n",
       "      <th>1</th>\n",
       "      <td>2</td>\n",
       "      <td>3</td>\n",
       "      <td>7057</td>\n",
       "      <td>9810</td>\n",
       "      <td>9568</td>\n",
       "      <td>1762</td>\n",
       "      <td>3293</td>\n",
       "      <td>1776</td>\n",
       "    </tr>\n",
       "    <tr>\n",
       "      <th>2</th>\n",
       "      <td>2</td>\n",
       "      <td>3</td>\n",
       "      <td>6353</td>\n",
       "      <td>8808</td>\n",
       "      <td>7684</td>\n",
       "      <td>2405</td>\n",
       "      <td>3516</td>\n",
       "      <td>7844</td>\n",
       "    </tr>\n",
       "    <tr>\n",
       "      <th>3</th>\n",
       "      <td>1</td>\n",
       "      <td>3</td>\n",
       "      <td>13265</td>\n",
       "      <td>1196</td>\n",
       "      <td>4221</td>\n",
       "      <td>6404</td>\n",
       "      <td>507</td>\n",
       "      <td>1788</td>\n",
       "    </tr>\n",
       "    <tr>\n",
       "      <th>4</th>\n",
       "      <td>2</td>\n",
       "      <td>3</td>\n",
       "      <td>22615</td>\n",
       "      <td>5410</td>\n",
       "      <td>7198</td>\n",
       "      <td>3915</td>\n",
       "      <td>1777</td>\n",
       "      <td>5185</td>\n",
       "    </tr>\n",
       "  </tbody>\n",
       "</table>\n",
       "</div>"
      ],
      "text/plain": [
       "   V1  V2     V3    V4    V5    V6    V7    V8\n",
       "0   2   3  12669  9656  7561   214  2674  1338\n",
       "1   2   3   7057  9810  9568  1762  3293  1776\n",
       "2   2   3   6353  8808  7684  2405  3516  7844\n",
       "3   1   3  13265  1196  4221  6404   507  1788\n",
       "4   2   3  22615  5410  7198  3915  1777  5185"
      ]
     },
     "execution_count": 10,
     "metadata": {},
     "output_type": "execute_result"
    }
   ],
   "source": [
    "data.head()"
   ]
  },
  {
   "cell_type": "code",
   "execution_count": 11,
   "metadata": {},
   "outputs": [
    {
     "name": "stdout",
     "output_type": "stream",
     "text": [
      "                  sdev                varprop               cumprop\n",
      "    Standard deviation Proportion of Variance Cumulative Proportion\n",
      "PC1           1.626551               0.377953              0.377953\n",
      "PC2           1.305750               0.243569              0.621522\n",
      "PC3           1.003140               0.143756              0.765277\n",
      "PC4           0.859100               0.105436              0.870713\n",
      "PC5           0.745963               0.079494              0.950208\n",
      "PC6           0.534392               0.040796              0.991004\n",
      "PC7           0.250940               0.008996              1.000000\n"
     ]
    }
   ],
   "source": [
    "X = data.loc[:,\"V2\":\"V8\"] # independent variables data\n",
    "y = data.V1 # dependent variable data\n",
    "standardisedX = scale(X)\n",
    "standardisedX = pd.DataFrame(standardisedX, index=X.index, columns=X.columns)\n",
    "pca = PCA().fit(standardisedX)\n",
    "summary = pca_summary(pca, standardisedX,False)\n",
    "print(summary)"
   ]
  },
  {
   "cell_type": "markdown",
   "metadata": {},
   "source": [
    "## Deciding How Many Principal Components to Retain"
   ]
  },
  {
   "cell_type": "code",
   "execution_count": 12,
   "metadata": {},
   "outputs": [
    {
     "data": {
      "image/png": "[encoded data removed]",
      "text/plain": [
       "<Figure size 432x288 with 1 Axes>"
      ]
     },
     "metadata": {
      "needs_background": "light"
     },
     "output_type": "display_data"
    },
    {
     "name": "stdout",
     "output_type": "stream",
     "text": [
      "     Standard deviation\n",
      "PC1            2.645669\n",
      "PC2            1.704983\n",
      "PC3            1.006290\n",
      "PC4            0.738052\n",
      "PC5            0.556460\n",
      "PC6            0.285575\n",
      "PC7            0.062971\n",
      "     Cumulative Proportion\n",
      "PC1               0.377953\n",
      "PC2               0.621522\n",
      "PC3               0.765277\n",
      "PC4               0.870713\n",
      "PC5               0.950208\n",
      "PC6               0.991004\n",
      "PC7               1.000000\n"
     ]
    }
   ],
   "source": [
    "screeplot(pca, standardisedX)\n",
    "print(summary.sdev**2)\n",
    "print(summary.cumprop)"
   ]
  },
  {
   "cell_type": "markdown",
   "metadata": {},
   "source": [
    "## Loadings for the Principal Components"
   ]
  },
  {
   "cell_type": "code",
   "execution_count": 13,
   "metadata": {},
   "outputs": [
    {
     "name": "stdout",
     "output_type": "stream",
     "text": [
      "[0.02056902 0.04368345 0.54517106 0.57894964 0.0512486  0.54820766\n",
      " 0.2492317 ]\n",
      "[ 0.0583253   0.52876695  0.08233427 -0.14730545  0.6076416  -0.25637237\n",
      "  0.50355808]\n",
      "[-9.86181604e-01 -6.88203033e-02  7.07125304e-04  1.05440202e-02\n",
      "  1.49286109e-01  1.01145237e-02  1.44667411e-02]\n",
      "[ 0.08474014 -0.80456955  0.06272752 -0.11167662  0.15424557 -0.14082867\n",
      "  0.53428095]\n",
      "[ 0.12765091 -0.25077064 -0.08369136  0.10159343  0.76219412  0.16670553\n",
      " -0.54292104]\n",
      "[-0.01204903 -0.04739837  0.82681568 -0.315129   -0.02970002 -0.33993303\n",
      " -0.31343454]\n",
      "[-3.05474708e-04 -3.60049216e-02 -3.80254527e-02  7.21739607e-01\n",
      " -1.56609801e-02 -6.85901855e-01 -7.51194783e-02]\n"
     ]
    }
   ],
   "source": [
    "print(pca.components_[0])\n",
    "print(pca.components_[1])\n",
    "print(pca.components_[2])\n",
    "print(pca.components_[3])\n",
    "print(pca.components_[4])\n",
    "print(pca.components_[5])\n",
    "print(pca.components_[6])"
   ]
  },
  {
   "cell_type": "markdown",
   "metadata": {},
   "source": [
    "### All principal components"
   ]
  },
  {
   "cell_type": "code",
   "execution_count": 14,
   "metadata": {},
   "outputs": [
    {
     "name": "stdout",
     "output_type": "stream",
     "text": [
      "[[ 2.05690181e-02  4.36834460e-02  5.45171062e-01  5.78949643e-01\n",
      "   5.12486019e-02  5.48207659e-01  2.49231700e-01]\n",
      " [ 5.83252985e-02  5.28766954e-01  8.23342670e-02 -1.47305448e-01\n",
      "   6.07641595e-01 -2.56372374e-01  5.03558080e-01]\n",
      " [-9.86181604e-01 -6.88203033e-02  7.07125304e-04  1.05440202e-02\n",
      "   1.49286109e-01  1.01145237e-02  1.44667411e-02]\n",
      " [ 8.47401397e-02 -8.04569548e-01  6.27275168e-02 -1.11676621e-01\n",
      "   1.54245575e-01 -1.40828673e-01  5.34280947e-01]\n",
      " [ 1.27650909e-01 -2.50770641e-01 -8.36913574e-02  1.01593435e-01\n",
      "   7.62194119e-01  1.66705525e-01 -5.42921039e-01]\n",
      " [-1.20490297e-02 -4.73983691e-02  8.26815676e-01 -3.15128999e-01\n",
      "  -2.97000191e-02 -3.39933028e-01 -3.13434543e-01]\n",
      " [-3.05474708e-04 -3.60049216e-02 -3.80254527e-02  7.21739607e-01\n",
      "  -1.56609801e-02 -6.85901855e-01 -7.51194783e-02]]\n"
     ]
    }
   ],
   "source": [
    "print(pca.components_)"
   ]
  },
  {
   "cell_type": "code",
   "execution_count": 15,
   "metadata": {},
   "outputs": [
    {
     "name": "stdout",
     "output_type": "stream",
     "text": [
      "[ 2.05469565e-01  4.46228421e-01  8.24132789e-01 -7.66022465e-01\n",
      "  1.79955088e-01 -1.44020811e-01 -3.23364798e-01  1.52548329e-01\n",
      " -5.05588799e-01  1.60323945e+00  6.49301934e-01 -9.15402452e-01\n",
      "  1.00483211e+00  8.62228035e-01  8.57779941e-01 -9.39522663e-01\n",
      "  5.68629259e-01 -3.39835216e-01  3.29403028e-01 -3.12142388e-01\n",
      " -3.07252452e-01 -1.10650318e+00 -1.62568357e-01  4.70129831e+00\n",
      "  1.25838778e+00 -1.42124530e-01 -1.02737156e+00 -1.08508677e+00\n",
      "  3.13344016e+00 -7.65675854e-01  8.73710542e-02 -7.17419055e-01\n",
      " -9.49414722e-01 -3.36305947e-01 -1.05747616e+00  1.78214104e-01\n",
      " -1.58007772e-01  9.84424646e-01  1.59551208e+00 -7.63661602e-01\n",
      "  2.68859021e-03 -2.19977449e-01  8.66897239e-01  1.95589596e+00\n",
      "  2.92764191e-01  2.82514491e+00  1.87612615e+00  9.55021709e+00\n",
      "  4.41860251e-01  3.60798505e+00 -9.16418784e-01 -4.97977039e-01\n",
      " -2.36744928e-01  7.11091754e-01 -9.54446471e-01 -5.02059183e-01\n",
      "  4.60957530e+00  9.36335624e-01 -1.07717125e+00 -3.58556858e-02\n",
      " -2.15809512e-01  8.44108917e+00  4.41400721e-02  1.43940899e+00\n",
      " -8.52394430e-01  5.81886295e+00 -4.72733999e-01  6.26587398e-01\n",
      " -2.26553792e-01 -1.02924893e+00 -7.91717944e-01  1.81581177e+00\n",
      " -6.22561688e-01 -2.16264437e-01  4.26180068e-02 -1.15403437e+00\n",
      " -5.56309158e-01  2.76353602e+00 -1.12025558e+00 -6.78629092e-01\n",
      " -1.05140358e+00  1.05942082e+00  5.70133320e-01 -9.89372630e-01\n",
      " -3.96590161e-01  1.26597655e+01  8.43182503e+00  1.09246409e+00\n",
      " -1.00227190e+00 -3.77315201e-01 -1.18343754e+00 -7.76480582e-01\n",
      "  5.23950806e+00 -4.31744227e-01  7.75419730e-01 -7.51704770e-01\n",
      " -2.86686407e-01 -1.36466906e+00 -1.35696395e+00 -1.01790678e+00\n",
      "  1.14129890e+00  1.31274699e+00  1.90098121e-01  1.36129137e-01\n",
      " -7.91249732e-01 -9.23461405e-01  6.34102466e-01  1.46937651e+00\n",
      "  1.03457653e-02  1.67147889e+00 -9.86734260e-01  1.38110391e+00\n",
      " -6.31969915e-01 -8.77195363e-01 -1.02517856e+00 -1.04820018e+00\n",
      " -9.40969565e-01 -6.46024880e-01 -9.02462145e-01 -9.81197206e-01\n",
      " -9.39755963e-01 -1.01933301e+00 -1.26997580e+00  1.93864347e-01\n",
      " -7.63771480e-01 -1.42846564e-01 -9.68851607e-01  3.46704255e-01\n",
      " -4.30103048e-01 -9.08842090e-01 -1.00229026e+00 -1.33290477e+00\n",
      " -9.43982172e-01 -1.18790421e+00 -1.08417033e+00 -1.10276861e+00\n",
      "  1.03630667e-01 -2.35522093e-01 -4.53659601e-01 -6.87054257e-01\n",
      " -2.52980084e-01  9.70729643e-02 -2.47471273e-01 -1.05806320e+00\n",
      " -9.05320115e-01  3.21796117e+00 -1.07501061e+00 -8.10975681e-01\n",
      " -1.23149211e+00 -9.76479506e-01 -1.02031628e+00 -8.76204473e-01\n",
      " -9.95764127e-01 -4.14616900e-01 -1.42514087e+00  2.06788033e+00\n",
      "  9.23961513e-01 -9.62614688e-01  2.59898931e-01  9.85167510e-01\n",
      "  3.24774264e-01 -1.13237507e+00 -8.98643917e-01  3.02338911e+00\n",
      "  1.32664821e-01  1.83430835e+00  5.35703917e-01 -7.37327206e-01\n",
      " -1.25683118e+00 -1.13918608e+00  8.67395313e-01  3.24954103e+00\n",
      " -2.41911650e-01  1.54089573e+00 -8.60267686e-01  5.04141423e-01\n",
      " -9.64396616e-02 -3.25760609e-01 -5.18230813e-01 -6.46856477e-01\n",
      " -3.57095867e-04  3.74664060e+00  6.46468391e-01  7.82125304e+00\n",
      " -1.04553205e+00 -8.15880021e-01 -1.13076484e+00  2.21731092e-01\n",
      "  7.15636968e-01  7.50413372e-01 -7.03702009e-01 -1.26707825e+00\n",
      " -1.11414302e+00  7.69708997e-01 -1.01079529e+00 -4.07506591e-01\n",
      " -1.74877352e-02  3.10157433e-01 -7.12218605e-01 -1.08187982e+00\n",
      "  2.15777181e+00  2.91693317e+00  7.12870769e-01 -1.19101852e+00\n",
      " -9.71128690e-01  1.95322430e+00 -1.28990448e+00 -1.11060438e-01\n",
      " -3.76511250e-01  1.99727261e+00 -9.72987390e-01  5.60071598e+00\n",
      " -1.07108049e+00  4.46126538e-04  4.55865679e-01  1.15493163e+00\n",
      "  3.55981024e+00 -1.05477103e+00  1.11669814e+00 -1.32315452e+00\n",
      " -1.20204988e+00  2.29392124e-01 -1.07926529e+00 -7.07223602e-01\n",
      " -1.25525003e+00 -7.93883244e-01  2.79677682e-02 -1.10752241e+00\n",
      " -8.35034047e-01 -8.70734391e-01 -2.84616890e-01 -2.25151227e-01\n",
      " -9.26496456e-01 -8.63454910e-01 -6.98388161e-01 -6.65858061e-01\n",
      " -1.12676048e+00 -9.50885469e-01 -1.35979403e+00 -5.60605074e-01\n",
      " -3.37938026e-01 -9.61389339e-01 -1.04747865e+00 -4.68070741e-01\n",
      "  3.09545160e-01  1.09626353e+00 -1.05430412e+00 -1.30755822e+00\n",
      " -7.82679056e-01 -8.62089443e-01 -1.11903130e+00  4.94993013e+00\n",
      " -7.91074792e-01  3.99813195e-01  6.75802294e-01 -1.15709648e+00\n",
      " -6.83451993e-01 -6.54454539e-01 -3.88561160e-01 -2.81558588e-01\n",
      " -8.28884292e-01 -1.21613996e+00 -1.09333499e+00 -5.82453580e-01\n",
      "  9.67215637e-01  1.62516907e+00  1.39387240e+00 -7.27642281e-01\n",
      "  1.15875956e+00 -1.27113120e+00 -1.25734825e+00 -8.56506581e-01\n",
      " -3.50674588e-01 -7.62162700e-01 -1.00345874e+00 -1.25331273e+00\n",
      " -3.05347810e-01 -1.04513436e+00 -8.57163070e-01  2.50392625e-01\n",
      " -9.41607586e-01 -3.03009156e-02 -4.12666447e-01 -6.95473309e-01\n",
      "  2.82829357e-01 -9.73136284e-01 -1.00581853e+00 -8.37283420e-01\n",
      " -1.17981018e+00 -1.22389519e+00 -8.60732912e-01 -8.62677081e-01\n",
      " -7.10647344e-01  8.87019516e-01 -5.79701637e-01 -7.01819308e-01\n",
      " -8.90629646e-01 -2.88336754e-01  1.23743054e-01 -1.21734842e+00\n",
      " -6.96266130e-02  1.82033711e+00  3.01035892e-01  8.26021372e-01\n",
      "  2.17065508e+00  5.06059502e-01  1.84683870e+00 -9.25415000e-01\n",
      " -1.09360434e+00  1.76434147e+00 -9.21190778e-01 -6.03208415e-01\n",
      "  1.98117778e+00 -1.12535434e+00 -6.09346157e-01  1.13697142e+00\n",
      " -1.07648248e+00 -6.13587528e-01 -9.01979697e-01  3.07935316e+00\n",
      " -9.39219418e-01 -8.28128621e-01 -9.30179204e-01 -3.91899925e-01\n",
      " -8.25474410e-01  2.00277441e+00 -1.09170632e+00 -1.23808057e+00\n",
      " -7.97155843e-01 -8.85317731e-01 -8.40120801e-01  2.52390599e+00\n",
      " -7.91307139e-01  7.52869812e+00 -7.05708022e-01  4.64152829e-01\n",
      " -1.13493970e+00 -9.63398783e-01 -8.00492460e-01 -7.07437611e-01\n",
      "  4.09110215e-01  4.70845667e-01 -3.95419318e-03  2.48317274e+00\n",
      " -1.15517774e+00 -2.63666891e-01  9.15419846e-01  5.86825299e-01\n",
      " -9.21171161e-01  2.37997341e+00 -1.09984330e+00  2.41539435e+00\n",
      " -1.22824367e+00  1.41491229e+00 -2.63286102e-01 -1.22988067e+00\n",
      " -1.25748305e+00  7.98623024e-01  5.31156410e-01 -7.76992592e-01\n",
      " -9.13139026e-01 -1.26118470e+00 -1.07715980e+00 -8.98139403e-01\n",
      " -1.16323682e+00  3.28391401e-01 -1.06601897e+00 -1.25665025e+00\n",
      " -1.04697815e+00 -1.31154737e+00 -4.38573159e-01 -8.76093085e-01\n",
      " -5.65199592e-01  3.59159289e-02 -1.03927338e+00 -1.17642616e+00\n",
      "  7.58544917e-01 -7.81263189e-01 -9.61895604e-01 -3.01581445e-01\n",
      " -1.00964185e+00 -7.62137808e-01  2.23246015e-01 -1.00445766e+00\n",
      "  1.67450180e+00 -1.09127157e+00 -8.49146358e-01 -9.99726488e-01\n",
      " -1.19732540e+00 -1.09113800e+00 -1.07967192e+00 -9.05445511e-01\n",
      " -8.32671191e-01 -4.20399321e-01 -1.06792070e+00 -1.08112863e+00\n",
      "  6.42896620e-01 -1.04646168e+00 -1.20330409e+00 -1.20500063e+00\n",
      " -1.13901880e+00 -6.92530214e-01 -6.54695005e-01 -1.59188521e-01\n",
      " -6.14162623e-01 -1.14611521e+00 -3.64031185e-01  1.65927862e+00\n",
      " -3.73681675e-01 -4.74093660e-02 -5.89594489e-01 -5.61853146e-01\n",
      " -7.03991333e-02 -1.51663370e-01 -8.49482115e-01  1.44974366e-01\n",
      "  9.18764613e-01  1.55470308e-01  1.17009501e+00 -6.72898934e-01\n",
      "  6.77885605e-01  8.94210137e-02 -7.68783664e-01 -5.46821517e-01\n",
      " -2.28667516e-02 -7.25411591e-01  9.53190634e-01  5.43196490e-01\n",
      " -5.41405340e-01 -8.33047346e-01  1.04672154e-01 -2.57048034e-01\n",
      " -8.02458200e-01 -9.20661830e-01 -2.52222230e-01  8.84158323e-01\n",
      " -8.88015160e-01  3.47631027e+00 -9.05485613e-01 -1.09353047e+00]\n"
     ]
    }
   ],
   "source": [
    "print(calcpc(standardisedX, pca.components_[0]))"
   ]
  },
  {
   "cell_type": "code",
   "execution_count": 16,
   "metadata": {},
   "outputs": [
    {
     "name": "stdout",
     "output_type": "stream",
     "text": [
      "[-2.68755506e-01 -2.94123521e-01  8.47759702e-01  6.86295516e-01\n",
      "  1.30551516e+00 -2.58696206e-01 -4.88017822e-01 -1.96221114e-01\n",
      " -6.22400366e-01 -7.08741440e-01 -3.70331303e-01 -1.81759381e-01\n",
      "  7.21964235e-01 -5.22999099e-02  1.90479928e-01 -4.57793277e-01\n",
      " -9.91357153e-01  2.43319586e-01  4.76913874e-01 -6.67111097e-01\n",
      "  1.93534406e-01 -1.94596527e-01  2.17504837e+00  3.62344813e+00\n",
      "  1.08837021e+00 -4.85722144e-01 -2.36800688e-04 -2.04349951e-01\n",
      " -3.00896466e-01  1.11277136e+00  3.02537735e-01 -4.08840856e-01\n",
      "  2.00856725e-02  1.21482309e+00 -7.63859880e-01 -1.03945672e+00\n",
      "  1.30390511e+00 -3.34449833e-01 -1.09597601e+00  3.19440720e+00\n",
      "  2.24687784e+00  4.49873227e-01 -9.44853834e-01 -1.53519736e+00\n",
      " -7.60042043e-01 -6.93199149e-02 -8.62338767e-01  1.52288575e+00\n",
      " -4.68037604e-01 -1.21135599e+00  1.69699213e-01 -8.33861935e-01\n",
      "  9.01240801e-01 -1.12181243e+00  7.50823687e-01 -5.02301822e-01\n",
      " -1.21076656e+00 -9.10344750e-01 -1.98025701e-01 -5.82923557e-01\n",
      " -8.08114414e-01 -5.72589248e-01 -1.42410184e-01 -4.52426700e-01\n",
      " -1.44884953e-01 -2.43064661e+00 -1.16911935e+00 -1.81807202e-01\n",
      "  4.56319493e-01 -4.62538304e-01  1.33210221e+00  2.57730347e+00\n",
      "  3.62493878e-01  9.39362785e-01 -2.73051705e-01  6.81208224e-01\n",
      "  1.32024374e-01 -1.06037756e+00 -2.03627227e-01 -5.23714437e-01\n",
      " -5.40217203e-01 -1.37690162e+00 -2.25002748e-01  3.51012325e-01\n",
      " -4.89923806e-01 -2.70379807e+00 -4.24842019e-01  4.10085187e+00\n",
      "  5.80112511e-01  1.06602935e+00  2.70613362e-02  8.69060247e-01\n",
      " -4.12592043e-01  4.42989491e+00 -9.17121204e-01 -8.06003132e-01\n",
      " -1.15897748e+00 -7.96011877e-01 -7.68629905e-01  2.40180441e-01\n",
      " -1.14524747e-02 -8.19908669e-01 -5.13362048e-01  3.96265775e+00\n",
      " -1.65960924e-01  4.34187837e-02 -9.69761440e-01 -5.71613041e-01\n",
      " -7.45011191e-01 -1.07585519e+00  1.45707558e-01 -5.08779845e-01\n",
      "  1.44566885e+00  3.42515233e-01  3.64809593e-01 -4.86788390e-02\n",
      " -2.54752819e-01 -2.62598199e-01  7.26231205e-01  1.43131880e-02\n",
      "  2.63690647e-01 -3.98972783e-01 -1.23768145e-04 -2.66447560e-01\n",
      "  1.43242183e+00  4.40255204e+00  9.82120708e-01  3.75176808e-01\n",
      " -9.05093044e-01  1.36471295e+00  3.36944959e-01 -7.26944164e-01\n",
      " -2.24185096e-01 -4.12607200e-01 -4.31390825e-01 -4.79537010e-01\n",
      " -1.40756048e-02 -7.70214102e-01  2.15190811e-01 -4.47225403e-01\n",
      "  4.62021177e-01  7.24120358e-01  9.65154860e-01  6.15830004e-01\n",
      " -9.04117354e-02 -3.16020196e-01 -3.93512076e-01 -3.33798810e-01\n",
      " -9.54272335e-02  7.61900867e-01  4.89918338e-02 -4.81913506e-01\n",
      "  2.33633015e-01 -3.27879189e-01 -8.76620459e-01 -1.22007909e+00\n",
      " -6.74522853e-01  2.63537265e-01 -6.66049383e-01 -1.36929806e+00\n",
      " -7.46899375e-01  1.46338372e-01  1.17641273e-01 -1.28399586e+00\n",
      " -5.78182521e-01  1.72271907e-01 -2.70117592e-01 -7.19959076e-01\n",
      " -4.25712662e-01 -2.79445682e-01 -1.19228401e+00 -1.95317694e-01\n",
      " -8.96627471e-01 -1.39576505e+00 -4.02771873e-01 -8.26175797e-01\n",
      "  1.85692398e+00  3.22759539e-01 -2.40306402e-01  1.69674951e-01\n",
      "  1.05246939e-02  7.19224090e+00 -1.23888741e+00  1.39441443e+01\n",
      " -9.67487023e-01 -2.00959651e-01 -2.79387677e-01 -2.72661644e-01\n",
      " -6.21453774e-01 -7.76728491e-01  7.60195820e-01 -2.35256056e-01\n",
      " -5.68032076e-01 -1.24323798e+00 -3.62935698e-01  1.06155795e+00\n",
      "  3.04160182e+00 -8.71412128e-01 -1.20439798e-01 -5.59434858e-01\n",
      " -1.05666966e+00 -1.11843214e+00  1.81814478e+00 -1.05412891e+00\n",
      " -6.41270934e-01 -1.50362908e+00 -6.56241087e-01 -8.93214484e-01\n",
      " -8.51802395e-01 -1.36600926e+00  3.02215372e-01 -7.93164320e-01\n",
      " -3.11788677e-01 -7.85820831e-01 -1.13161526e+00 -7.80543781e-01\n",
      " -1.91074217e+00  1.94842973e-01 -1.71950495e-01 -5.98411987e-01\n",
      " -1.04193337e-01 -1.08817048e+00  1.09274967e-01 -9.51956783e-02\n",
      " -5.61585771e-01 -3.77732902e-01  9.04010250e-02 -4.97415636e-01\n",
      " -1.08764432e+00  2.87307154e-01  7.54061830e-01 -7.20848094e-01\n",
      "  1.98313450e-01 -9.21221649e-01  5.35854436e-01 -8.18160081e-01\n",
      " -4.31527260e-01  5.49984624e-01 -5.83930332e-01  1.91065136e+00\n",
      "  1.66425418e+00  4.05385356e-01  2.04523931e-01 -2.24289688e-01\n",
      " -5.52649621e-01 -1.03586806e+00 -3.82419789e-01 -1.22499463e-01\n",
      " -2.42828270e-01  8.14207007e-02 -6.03410656e-01 -3.08692004e-01\n",
      "  4.16363624e-01  2.82301831e-01  5.86621201e-01  7.53293350e-01\n",
      " -5.21338108e-01 -1.05282614e-01  2.66210492e+00  1.57767846e+00\n",
      " -5.59606316e-01  1.64923999e-01  1.17372750e-01 -6.04063239e-01\n",
      " -1.23723043e+00  1.11289348e+00 -7.99999673e-01  8.92730521e-01\n",
      " -8.66447809e-01 -1.06417072e-01 -1.79863627e-01 -5.34056858e-01\n",
      " -8.07354366e-01  1.55675578e+00 -6.25239388e-01 -6.98012189e-01\n",
      "  1.16627744e+00  1.57784165e+00  5.33801293e-01  8.64202890e-03\n",
      " -4.65430459e-01 -3.34397039e-02  2.06333208e+00  1.69758852e+00\n",
      "  3.30688497e+00  8.34884460e-01 -4.46784611e-01  9.21799516e-01\n",
      " -1.16063441e-01  1.05128758e+00 -5.32088966e-01 -2.47314471e-01\n",
      " -1.99506966e-01 -9.64163333e-01  2.25908938e-01 -7.50643033e-01\n",
      "  2.73803585e-01 -6.43653613e-01 -7.49731843e-01 -9.26806215e-01\n",
      " -9.15718814e-03 -1.14743018e+00 -1.14971563e+00 -1.52147640e+00\n",
      " -1.40755901e+00 -1.04228647e+00 -8.07772580e-01  1.10841127e-02\n",
      " -5.74269919e-01 -9.69311479e-01  1.04533761e+00  5.33619199e-01\n",
      " -1.88992326e+00 -3.98982808e-03 -2.81129842e-01 -4.42223116e-01\n",
      " -1.86955257e-01 -6.26935017e-01 -2.81129331e-01 -8.08461267e-01\n",
      " -7.08166223e-01 -1.36034941e-01  6.00501734e-02 -4.70467283e-01\n",
      "  5.86642204e-01  8.92002862e+00 -2.39896177e-01 -8.39650522e-01\n",
      "  9.40287549e-01 -7.94442129e-02 -1.25687263e-02 -9.33039170e-01\n",
      "  6.92966778e-01 -3.43474665e+00  1.73867527e+00  3.87349433e-01\n",
      " -1.93373502e-01  5.34058712e-01  9.60335792e-01  5.70324402e-01\n",
      " -1.09846618e+00 -7.20518006e-01 -8.94756681e-01 -1.81516888e+00\n",
      " -4.62486100e-01 -1.06407351e+00 -7.77798062e-01  4.09545902e-01\n",
      " -5.49822466e-01 -1.14311418e+00 -3.89323914e-01 -9.96126139e-01\n",
      " -7.63563099e-01 -1.40596778e+00  8.66000848e-01 -8.83246907e-01\n",
      "  5.29145787e-01 -1.56780492e+00  7.73076441e-01 -6.76520491e-01\n",
      "  3.06496283e-01 -5.05113884e-01 -6.55186979e-01 -7.67461823e-01\n",
      " -6.21833548e-01 -2.56416938e-01 -2.97525993e-01 -5.34216658e-01\n",
      "  3.49978160e-01 -4.71293117e-01  1.25867481e+00  1.04660887e+00\n",
      "  2.19607538e-01  3.16317886e-01 -3.54148103e-01 -6.07252039e-01\n",
      " -1.84179029e-01  1.05269041e+00 -5.38516482e-01 -8.41214287e-01\n",
      "  7.50666290e-01  1.18417095e+00  1.22547093e+00 -3.28529748e-01\n",
      "  8.96279110e-01  6.49087300e-02 -4.67435010e-01  3.65902902e-01\n",
      " -2.38794268e-01 -3.53922626e-02  7.27593397e-02 -3.70717491e-01\n",
      " -7.06172559e-01  1.29893687e+00 -1.85639018e-01 -1.41998090e-01\n",
      " -1.88636612e-01  5.53900312e-01  2.85403307e-01 -2.74930215e-01\n",
      " -1.13461266e-01  2.21578552e+00  2.61115797e-01  2.45025195e-01\n",
      "  4.63395662e-01 -3.34970466e-01  1.45713753e+00 -7.17801689e-01\n",
      " -5.01289341e-01  4.97184926e-01 -2.69217482e-01  1.23209215e-01\n",
      " -1.19621738e+00  1.87327000e+00  9.81453335e-03 -2.92212852e-01\n",
      " -8.53387456e-01 -7.61699995e-01 -1.28552910e+00 -2.66789323e-01\n",
      " -9.86409079e-01 -1.94862531e-02  4.14752025e-01 -5.24361712e-02\n",
      " -3.77417837e-01  1.80022215e+00 -2.08649980e-02  2.56274604e+00\n",
      " -5.07238442e-01 -1.38894753e-01 -5.59605161e-01  1.31055828e+00\n",
      " -5.56836905e-02 -3.82899745e-01 -1.83169601e-01  2.24766701e+00\n",
      "  1.71398048e+00 -1.01013800e+00  7.49195408e-03 -8.23165558e-01]\n"
     ]
    }
   ],
   "source": [
    "print(calcpc(standardisedX, pca.components_[1]))"
   ]
  },
  {
   "cell_type": "markdown",
   "metadata": {},
   "source": [
    "### Scatter plot of PCA components"
   ]
  },
  {
   "cell_type": "code",
   "execution_count": 17,
   "metadata": {},
   "outputs": [
    {
     "data": {
      "image/png": "[encoded data removed]",
      "text/plain": [
       "<Figure size 402.375x360 with 1 Axes>"
      ]
     },
     "metadata": {
      "needs_background": "light"
     },
     "output_type": "display_data"
    }
   ],
   "source": [
    "PCA = pca_scatter(pca, standardisedX, y,\"2 component PCA\")"
   ]
  },
  {
   "cell_type": "code",
   "execution_count": 18,
   "metadata": {},
   "outputs": [
    {
     "name": "stdout",
     "output_type": "stream",
     "text": [
      "(440, 8)\n",
      "(440, 3)\n"
     ]
    }
   ],
   "source": [
    "print(data.shape)\n",
    "print(PCA.shape)"
   ]
  },
  {
   "cell_type": "code",
   "execution_count": 20,
   "metadata": {},
   "outputs": [
    {
     "data": {
      "image/png": "[encoded data removed]",
      "text/plain": [
       "<Figure size 864x432 with 2 Axes>"
      ]
     },
     "metadata": {
      "needs_background": "light"
     },
     "output_type": "display_data"
    }
   ],
   "source": [
    "pca_df= pd.DataFrame(pca.components_,columns=[\"PC\"+str(i) for i in range(1,len(pca.components_)+1)])\n",
    "plt.figure(figsize=(12,6))\n",
    "sns.heatmap(pca_df, vmax=1., square=False, annot = False).xaxis.tick_top()"
   ]
  },
  {
   "cell_type": "code",
   "execution_count": null,
   "metadata": {},
   "outputs": [],
   "source": []
  }
 ],
 "metadata": {
  "kernelspec": {
   "display_name": "Python 3",
   "language": "python",
   "name": "python3"
  },
  "language_info": {
   "codemirror_mode": {
    "name": "ipython",
    "version": 3
   },
   "file_extension": ".py",
   "mimetype": "text/x-python",
   "name": "python",
   "nbconvert_exporter": "python",
   "pygments_lexer": "ipython3",
   "version": "3.7.6"
  }
 },
 "nbformat": 4,
 "nbformat_minor": 4
}
