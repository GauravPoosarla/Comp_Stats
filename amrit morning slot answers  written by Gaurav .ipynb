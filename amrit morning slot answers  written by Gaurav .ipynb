{
 "cells": [
  {
   "cell_type": "markdown",
   "metadata": {},
   "source": [
    "## Best fit"
   ]
  },
  {
   "cell_type": "code",
   "execution_count": 3,
   "metadata": {},
   "outputs": [
    {
     "name": "stdout",
     "output_type": "stream",
     "text": [
      "Slope = 1.3523118693520293\n",
      "Intercept = -0.912793289297742\n",
      "The predicted Value of y for 30 is : 39.65656279126314\n"
     ]
    },
    {
     "data": {
      "image/png": "[encoded data removed]",
      "text/plain": [
       "<Figure size 432x288 with 1 Axes>"
      ]
     },
     "metadata": {
      "needs_background": "light"
     },
     "output_type": "display_data"
    }
   ],
   "source": [
    "from statistics import mean\n",
    "import numpy as np\n",
    "import matplotlib.pyplot as plt\n",
    "\n",
    "xs = np.array([1,2,3,4,5,7,10,12,13,14,17,19,20,21,23,25,27,28], dtype=np.float64)\n",
    "ys = np.array([5,4,6,5,6,8,10,12,13,15,19,21,25,29,30,35,38,42], dtype=np.float64)\n",
    "\n",
    "\n",
    "def best_fit_slope_and_intercept(xs, ys):\n",
    "    m = (((mean(xs) * mean(ys)) - mean(xs * ys)) /\n",
    "         ((mean(xs) * mean(xs)) - mean(xs * xs)))\n",
    "    b = mean(ys) - m * mean(xs)\n",
    "    return m, b\n",
    "\n",
    "m, b = best_fit_slope_and_intercept(xs, ys)\n",
    "print(\"Slope = {}\\nIntercept = {}\".format(m, b))\n",
    "regression_line = [(m*x)+b for x in xs]\n",
    "\n",
    "predict_x = 30\n",
    "predict_y = (m*predict_x)+b\n",
    "print(\"The predicted Value of y for 30 is : {}\".format(predict_y))\n",
    "plt.scatter(xs,ys,color='r',label='data')\n",
    "plt.plot(xs, regression_line, label='regression line')\n",
    "plt.scatter(predict_x, predict_y, color='g', label=\"Predicted point\")\n",
    "plt.legend()\n",
    "plt.show()"
   ]
  },
  {
   "cell_type": "code",
   "execution_count": null,
   "metadata": {},
   "outputs": [],
   "source": []
  },
  {
   "cell_type": "markdown",
   "metadata": {},
   "source": [
    "## Simple python code "
   ]
  },
  {
   "cell_type": "code",
   "execution_count": 7,
   "metadata": {},
   "outputs": [],
   "source": [
    "x = [4,8,-6,9,7,12,-10,0.5,11,17,0.5,-4,-11,-12,3.4]"
   ]
  },
  {
   "cell_type": "code",
   "execution_count": 10,
   "metadata": {},
   "outputs": [],
   "source": [
    "def time_pass(n):\n",
    "    total_sum = 0\n",
    "    max = 0\n",
    "    min = 0\n",
    "    for i in x:\n",
    "        total_sum += i\n",
    "        if max < i:\n",
    "            max = i\n",
    "        elif min > i:\n",
    "            min = i\n",
    "    average = total_sum/len(n)\n",
    "    \n",
    "    print(\"The total sum is {} with the maximum value of {} and the minimum value of {} and the average of the list {}: \".format(total_sum, max, min, average))\n",
    "            "
   ]
  },
  {
   "cell_type": "code",
   "execution_count": 11,
   "metadata": {},
   "outputs": [
    {
     "name": "stdout",
     "output_type": "stream",
     "text": [
      "The total sum is 29.4 with the maximum value of 17 and the minimum value of -12 and the average of the list 1.96: \n"
     ]
    }
   ],
   "source": [
    "time_pass(x)"
   ]
  },
  {
   "cell_type": "code",
   "execution_count": null,
   "metadata": {},
   "outputs": [],
   "source": []
  },
  {
   "cell_type": "markdown",
   "metadata": {},
   "source": [
    "# Principal Component Analysis in python"
   ]
  },
  {
   "cell_type": "code",
   "execution_count": 27,
   "metadata": {},
   "outputs": [],
   "source": [
    "import numpy as np\n",
    "import matplotlib.pyplot as plt\n",
    "import pandas as pd\n",
    "from sklearn.preprocessing import scale\n",
    "from sklearn.decomposition import PCA\n",
    "import seaborn as sns"
   ]
  },
  {
   "cell_type": "code",
   "execution_count": 28,
   "metadata": {},
   "outputs": [],
   "source": [
    "def pca_summary(pca, standardised_data, out=True):\n",
    "    names = [\"PC\"+str(i) for i in range(1,len(pca.explained_variance_ratio_)+1)]\n",
    "    a = list(np.std(pca.transform(standardised_data), axis=0))\n",
    "    b = list(pca.explained_variance_ratio_)\n",
    "    c = [np.sum(pca.explained_variance_ratio_[:i]) for i in range(1, len(pca.explained_variance_ratio_)+1)]\n",
    "    columns = pd.MultiIndex.from_tuples([(\"sdev\", \"Standard deviation\"), (\"varprop\", \"Proportion of Variance\"), (\"cumprop\", \"Cumulative Proportion\")])\n",
    "    summary = pd.DataFrame(zip(a, b, c), index=names, columns=columns)\n",
    "    if out:\n",
    "        print(\"Importance of components:\")\n",
    "    return summary"
   ]
  },
  {
   "cell_type": "code",
   "execution_count": 29,
   "metadata": {},
   "outputs": [],
   "source": [
    "def screeplot(pca, standardised_values):\n",
    "    y = np.std(pca.transform(standardised_values), axis=0)**2\n",
    "    x = np.arange(len(y)) + 1\n",
    "    plt.plot(x, y, \"o-\")\n",
    "    plt.xticks(x, [\"Comp.\"+str(i) for i in x], rotation=60)\n",
    "    plt.ylabel(\"Variance\")\n",
    "    plt.show()"
   ]
  },
  {
   "cell_type": "code",
   "execution_count": 30,
   "metadata": {},
   "outputs": [],
   "source": [
    "def calcpc(variables, loadings):\n",
    "    # find the number of samples in the data set and the number of variables\n",
    "    numsamples, numvariables = variables.shape\n",
    "    # make a vector to store the component\n",
    "    pc = np.zeros(numsamples)\n",
    "    # calculate the value of the component for each sample\n",
    "    for i in range(numsamples):\n",
    "        valuei = 0\n",
    "        for j in range(numvariables):\n",
    "            valueij = variables.iloc[i, j]\n",
    "            loadingj = loadings[j]\n",
    "            valuei = valuei + (valueij * loadingj)\n",
    "        pc[i] = valuei\n",
    "    return pc"
   ]
  },
  {
   "cell_type": "code",
   "execution_count": 31,
   "metadata": {},
   "outputs": [],
   "source": [
    "def pca_scatter(pca, standardised_values, classifs, main):\n",
    "    foo = pca.transform(standardised_values)\n",
    "    bar = pd.DataFrame(zip(foo[:, 0], foo[:, 1], classifs), columns=[\"PC1\", \"PC2\", \"Class\"])\n",
    "    sns.lmplot(\"PC1\", \"PC2\", bar, hue=\"Class\", fit_reg=False)\n",
    "    plt.title(main)\n",
    "    plt.show()\n",
    "    return bar"
   ]
  },
  {
   "cell_type": "markdown",
   "metadata": {},
   "source": [
    "### Dataframe created"
   ]
  },
  {
   "cell_type": "code",
   "execution_count": 32,
   "metadata": {},
   "outputs": [
    {
     "name": "stdout",
     "output_type": "stream",
     "text": [
      "      V1   V2   V3   V4   V5              V6\n",
      "0      1  5.1  3.5  1.4  0.2     Iris-setosa\n",
      "1      2  4.9  3.0  1.4  0.2     Iris-setosa\n",
      "2      3  4.7  3.2  1.3  0.2     Iris-setosa\n",
      "3      4  4.6  3.1  1.5  0.2     Iris-setosa\n",
      "4      5  5.0  3.6  1.4  0.2     Iris-setosa\n",
      "..   ...  ...  ...  ...  ...             ...\n",
      "145  146  6.7  3.0  5.2  2.3  Iris-virginica\n",
      "146  147  6.3  2.5  5.0  1.9  Iris-virginica\n",
      "147  148  6.5  3.0  5.2  2.0  Iris-virginica\n",
      "148  149  6.2  3.4  5.4  2.3  Iris-virginica\n",
      "149  150  5.9  3.0  5.1  1.8  Iris-virginica\n",
      "\n",
      "[150 rows x 6 columns]\n"
     ]
    }
   ],
   "source": [
    "data = pd.read_csv(\"iris.csv\")\n",
    "data.columns = [\"V\"+str(i) for i in range(1, len(data.columns)+1)]  # rename column names to be similar to R naming convention\n",
    "print(data)"
   ]
  },
  {
   "cell_type": "markdown",
   "metadata": {},
   "source": [
    "### Key values in dataset"
   ]
  },
  {
   "cell_type": "code",
   "execution_count": 33,
   "metadata": {},
   "outputs": [
    {
     "data": {
      "text/plain": [
       "Index(['V1', 'V2', 'V3', 'V4', 'V5', 'V6'], dtype='object')"
      ]
     },
     "execution_count": 33,
     "metadata": {},
     "output_type": "execute_result"
    }
   ],
   "source": [
    "data.keys()"
   ]
  },
  {
   "cell_type": "markdown",
   "metadata": {},
   "source": [
    "### Head values"
   ]
  },
  {
   "cell_type": "code",
   "execution_count": 34,
   "metadata": {},
   "outputs": [
    {
     "data": {
      "text/html": [
       "<div>\n",
       "<style scoped>\n",
       "    .dataframe tbody tr th:only-of-type {\n",
       "        vertical-align: middle;\n",
       "    }\n",
       "\n",
       "    .dataframe tbody tr th {\n",
       "        vertical-align: top;\n",
       "    }\n",
       "\n",
       "    .dataframe thead th {\n",
       "        text-align: right;\n",
       "    }\n",
       "</style>\n",
       "<table border=\"1\" class=\"dataframe\">\n",
       "  <thead>\n",
       "    <tr style=\"text-align: right;\">\n",
       "      <th></th>\n",
       "      <th>V1</th>\n",
       "      <th>V2</th>\n",
       "      <th>V3</th>\n",
       "      <th>V4</th>\n",
       "      <th>V5</th>\n",
       "      <th>V6</th>\n",
       "    </tr>\n",
       "  </thead>\n",
       "  <tbody>\n",
       "    <tr>\n",
       "      <th>0</th>\n",
       "      <td>1</td>\n",
       "      <td>5.1</td>\n",
       "      <td>3.5</td>\n",
       "      <td>1.4</td>\n",
       "      <td>0.2</td>\n",
       "      <td>Iris-setosa</td>\n",
       "    </tr>\n",
       "    <tr>\n",
       "      <th>1</th>\n",
       "      <td>2</td>\n",
       "      <td>4.9</td>\n",
       "      <td>3.0</td>\n",
       "      <td>1.4</td>\n",
       "      <td>0.2</td>\n",
       "      <td>Iris-setosa</td>\n",
       "    </tr>\n",
       "    <tr>\n",
       "      <th>2</th>\n",
       "      <td>3</td>\n",
       "      <td>4.7</td>\n",
       "      <td>3.2</td>\n",
       "      <td>1.3</td>\n",
       "      <td>0.2</td>\n",
       "      <td>Iris-setosa</td>\n",
       "    </tr>\n",
       "    <tr>\n",
       "      <th>3</th>\n",
       "      <td>4</td>\n",
       "      <td>4.6</td>\n",
       "      <td>3.1</td>\n",
       "      <td>1.5</td>\n",
       "      <td>0.2</td>\n",
       "      <td>Iris-setosa</td>\n",
       "    </tr>\n",
       "    <tr>\n",
       "      <th>4</th>\n",
       "      <td>5</td>\n",
       "      <td>5.0</td>\n",
       "      <td>3.6</td>\n",
       "      <td>1.4</td>\n",
       "      <td>0.2</td>\n",
       "      <td>Iris-setosa</td>\n",
       "    </tr>\n",
       "  </tbody>\n",
       "</table>\n",
       "</div>"
      ],
      "text/plain": [
       "   V1   V2   V3   V4   V5           V6\n",
       "0   1  5.1  3.5  1.4  0.2  Iris-setosa\n",
       "1   2  4.9  3.0  1.4  0.2  Iris-setosa\n",
       "2   3  4.7  3.2  1.3  0.2  Iris-setosa\n",
       "3   4  4.6  3.1  1.5  0.2  Iris-setosa\n",
       "4   5  5.0  3.6  1.4  0.2  Iris-setosa"
      ]
     },
     "execution_count": 34,
     "metadata": {},
     "output_type": "execute_result"
    }
   ],
   "source": [
    "data.head()"
   ]
  },
  {
   "cell_type": "code",
   "execution_count": 35,
   "metadata": {},
   "outputs": [
    {
     "name": "stdout",
     "output_type": "stream",
     "text": [
      "                  sdev                varprop               cumprop\n",
      "    Standard deviation Proportion of Variance Cumulative Proportion\n",
      "PC1           1.706112               0.727705              0.727705\n",
      "PC2           0.959803               0.230305              0.958010\n",
      "PC3           0.383866               0.036838              0.994848\n",
      "PC4           0.143554               0.005152              1.000000\n"
     ]
    }
   ],
   "source": [
    "X = data.loc[:,\"V2\":\"V5\"] # independent variables data\n",
    "y = data.V6 # dependent variable data\n",
    "standardisedX = scale(X)\n",
    "standardisedX = pd.DataFrame(standardisedX, index=X.index, columns=X.columns)\n",
    "pca = PCA().fit(standardisedX)\n",
    "summary = pca_summary(pca, standardisedX,False)\n",
    "print(summary)"
   ]
  },
  {
   "cell_type": "markdown",
   "metadata": {},
   "source": [
    "## Deciding How Many Principal Components to Retain"
   ]
  },
  {
   "cell_type": "code",
   "execution_count": 36,
   "metadata": {},
   "outputs": [
    {
     "data": {
      "image/png": "[encoded data removed]",
      "text/plain": [
       "<Figure size 432x288 with 1 Axes>"
      ]
     },
     "metadata": {
      "needs_background": "light"
     },
     "output_type": "display_data"
    },
    {
     "name": "stdout",
     "output_type": "stream",
     "text": [
      "     Standard deviation\n",
      "PC1            2.910818\n",
      "PC2            0.921221\n",
      "PC3            0.147353\n",
      "PC4            0.020608\n",
      "     Cumulative Proportion\n",
      "PC1               0.727705\n",
      "PC2               0.958010\n",
      "PC3               0.994848\n",
      "PC4               1.000000\n"
     ]
    }
   ],
   "source": [
    "screeplot(pca, standardisedX)\n",
    "print(summary.sdev**2)\n",
    "print(summary.cumprop)"
   ]
  },
  {
   "cell_type": "markdown",
   "metadata": {},
   "source": [
    "## Loadings for the Principal Components"
   ]
  },
  {
   "cell_type": "code",
   "execution_count": 37,
   "metadata": {},
   "outputs": [
    {
     "name": "stdout",
     "output_type": "stream",
     "text": [
      "[ 0.52237162 -0.26335492  0.58125401  0.56561105]\n",
      "[0.37231836 0.92555649 0.02109478 0.06541577]\n"
     ]
    }
   ],
   "source": [
    "print(pca.components_[0])\n",
    "print(pca.components_[1])"
   ]
  },
  {
   "cell_type": "markdown",
   "metadata": {},
   "source": [
    "### All principal components"
   ]
  },
  {
   "cell_type": "code",
   "execution_count": 38,
   "metadata": {},
   "outputs": [
    {
     "name": "stdout",
     "output_type": "stream",
     "text": [
      "[[ 0.52237162 -0.26335492  0.58125401  0.56561105]\n",
      " [ 0.37231836  0.92555649  0.02109478  0.06541577]\n",
      " [-0.72101681  0.24203288  0.14089226  0.6338014 ]\n",
      " [-0.26199559  0.12413481  0.80115427 -0.52354627]]\n"
     ]
    }
   ],
   "source": [
    "print(pca.components_)"
   ]
  },
  {
   "cell_type": "code",
   "execution_count": 39,
   "metadata": {},
   "outputs": [
    {
     "name": "stdout",
     "output_type": "stream",
     "text": [
      "[-2.26454173 -2.0864255  -2.36795045 -2.30419716 -2.38877749 -2.07053681\n",
      " -2.44571134 -2.23384186 -2.34195768 -2.18867576 -2.16348656 -2.32737775\n",
      " -2.22408272 -2.63971626 -2.19229151 -2.25146521 -2.20275048 -2.19017916\n",
      " -1.89407429 -2.33994907 -1.91455639 -2.2046454  -2.77416979 -1.82041156\n",
      " -2.2282175  -1.95702401 -2.05206331 -2.16819365 -2.14030596 -2.26879019\n",
      " -2.14455443 -1.8319381  -2.60820287 -2.43795086 -2.18867576 -2.2111199\n",
      " -2.04441652 -2.18867576 -2.4359522  -2.1705472  -2.28652724 -1.87170722\n",
      " -2.55783442 -1.96427929 -2.13337283 -2.07535759 -2.38125822 -2.39819169\n",
      " -2.22678121 -2.20595417  1.10399365  0.73248144  1.24210951  0.39730728\n",
      "  1.07259395  0.38445815  0.74871508 -0.49786339  0.92622237  0.00496803\n",
      " -0.12469746  0.43873012  0.55163398  0.71716507 -0.03725838  0.87589054\n",
      "  0.3480064   0.15339254  1.21530321  0.15694118  0.7382561   0.47236968\n",
      "  1.22798821  0.62938105  0.7004728   0.87353699  1.25422219  1.35823985\n",
      "  0.66212614 -0.04728151  0.12153421  0.01411823  0.23601084  1.05669143\n",
      "  0.22141709  0.43178316  1.04941336  1.03587821  0.0670676   0.27542507\n",
      "  0.27233507  0.62317054  0.33000536 -0.37362762  0.28294434  0.08905311\n",
      "  0.22435678  0.57388349 -0.45701287  0.25224447  1.84767259  1.15318981\n",
      "  2.2063495   1.4386854   1.8678907   2.75419671  0.35837447  2.3030059\n",
      "  2.0017353   2.2675546   1.36590943  1.59906459  1.88425185  1.25308651\n",
      "  1.46406152  1.5918093   1.47128019  2.43737848  3.30914118  1.25398099\n",
      "  2.04049626  0.97391511  2.89806444  1.32919369  1.70424071  1.95772766\n",
      "  1.17190451  1.01978105  1.78600886  1.86477791  2.43549739  2.31608241\n",
      "  1.86037143  1.11127173  1.19746916  2.8009494   1.58015525  1.34704442\n",
      "  0.92343298  1.85355198  2.0161572   1.90311686  1.15318981  2.04330844\n",
      "  2.00169097  1.87052207  1.55849189  1.52084506  1.37639119  0.95929858]\n"
     ]
    }
   ],
   "source": [
    "print(calcpc(standardisedX, pca.components_[0]))"
   ]
  },
  {
   "cell_type": "code",
   "execution_count": 40,
   "metadata": {},
   "outputs": [
    {
     "name": "stdout",
     "output_type": "stream",
     "text": [
      "[ 5.05703903e-01 -6.55404729e-01 -3.18477311e-01 -5.75367713e-01\n",
      "  6.74767397e-01  1.51854856e+00  7.45626750e-02  2.47613932e-01\n",
      " -1.09514636e+00 -4.48629048e-01  1.07059558e+00  1.58587455e-01\n",
      " -7.09118158e-01 -9.38281982e-01  1.88997851e+00  2.72237108e+00\n",
      "  1.51375028e+00  5.14304308e-01  1.43111071e+00  1.15803343e+00\n",
      "  4.30465163e-01  9.52457317e-01  4.89517027e-01  1.06750793e-01\n",
      "  1.62186163e-01 -6.07892567e-01  2.66014312e-01  5.52016495e-01\n",
      "  3.36640409e-01 -3.14878603e-01 -4.83942097e-01  4.45266836e-01\n",
      "  1.82847519e+00  2.18539162e+00 -4.48629048e-01 -1.84337811e-01\n",
      "  6.84956426e-01 -4.48629048e-01 -8.82169415e-01  2.92726955e-01\n",
      "  4.67991716e-01 -2.32769161e+00 -4.53816380e-01  4.97391640e-01\n",
      "  1.17143211e+00 -6.91917347e-01  1.15063259e+00 -3.62390765e-01\n",
      "  1.02548255e+00  3.22378453e-02  8.63112446e-01  5.98635573e-01\n",
      "  6.14822450e-01 -1.75816895e+00 -2.11757903e-01 -5.91062469e-01\n",
      "  7.78698611e-01 -1.84886877e+00  3.03308268e-02 -1.02940111e+00\n",
      " -2.65806268e+00 -5.88812850e-02 -1.77258156e+00 -1.85434315e-01\n",
      " -4.32795099e-01  5.09998151e-01 -1.90621647e-01 -7.90725456e-01\n",
      " -1.63335564e+00 -1.30310327e+00  4.02470382e-01 -4.16608222e-01\n",
      " -9.40914793e-01 -4.16811643e-01 -6.34939277e-02  2.50708611e-01\n",
      " -8.26200998e-02  3.28820266e-01 -2.24346071e-01 -1.05721241e+00\n",
      " -1.56359238e+00 -1.57339235e+00 -7.75923784e-01 -6.36901284e-01\n",
      " -2.80847693e-01  8.55136920e-01  5.22197265e-01 -1.39246648e+00\n",
      " -2.12620735e-01 -1.32981591e+00 -1.11944152e+00  2.75426333e-02\n",
      " -9.88900732e-01 -2.01793227e+00 -8.53950717e-01 -1.74908548e-01\n",
      " -3.80484659e-01 -1.53719974e-01 -1.53946451e+00 -5.95860746e-01\n",
      "  8.71696662e-01 -7.01326114e-01  5.54470105e-01 -5.00105223e-02\n",
      "  2.91192802e-01  7.88432206e-01 -1.56009458e+00  4.09516695e-01\n",
      " -7.23865359e-01  1.92144299e+00  6.93948040e-01 -4.28248836e-01\n",
      "  4.14332758e-01 -1.16739134e+00 -4.44147569e-01  6.77035372e-01\n",
      "  2.53192472e-01  2.55675734e+00 -2.36132010e-03 -1.71758384e+00\n",
      "  9.07398765e-01 -5.71174376e-01  3.97791359e-01 -4.86760542e-01\n",
      "  1.01414842e+00  1.00333452e+00 -3.18896617e-01  6.55429631e-02\n",
      " -1.93272800e-01  5.55381532e-01  2.46654468e-01  2.62618387e+00\n",
      " -1.84672394e-01 -2.95986102e-01 -8.17167742e-01  8.44748194e-01\n",
      "  1.07247450e+00  4.22255966e-01  1.92303705e-02  6.72422729e-01\n",
      "  6.10397038e-01  6.86024832e-01 -7.01326114e-01  8.64684880e-01\n",
      "  1.04855005e+00  3.82821838e-01 -9.05313601e-01  2.66794575e-01\n",
      "  1.01636193e+00 -2.22839447e-02]\n"
     ]
    }
   ],
   "source": [
    "print(calcpc(standardisedX, pca.components_[1]))"
   ]
  },
  {
   "cell_type": "markdown",
   "metadata": {},
   "source": [
    "### Scatter plot of PCA components"
   ]
  },
  {
   "cell_type": "code",
   "execution_count": 41,
   "metadata": {},
   "outputs": [
    {
     "data": {
      "image/png": "[encoded data removed]",
      "text/plain": [
       "<Figure size 463.5x360 with 1 Axes>"
      ]
     },
     "metadata": {
      "needs_background": "light"
     },
     "output_type": "display_data"
    }
   ],
   "source": [
    "PCA = pca_scatter(pca, standardisedX, y,\"2 component PCA\")"
   ]
  },
  {
   "cell_type": "code",
   "execution_count": 42,
   "metadata": {},
   "outputs": [
    {
     "name": "stdout",
     "output_type": "stream",
     "text": [
      "(150, 6)\n",
      "(150, 3)\n"
     ]
    }
   ],
   "source": [
    "print(data.shape)\n",
    "print(PCA.shape)"
   ]
  },
  {
   "cell_type": "markdown",
   "metadata": {},
   "source": [
    "### Heatmap of PCA components"
   ]
  },
  {
   "cell_type": "code",
   "execution_count": 43,
   "metadata": {},
   "outputs": [
    {
     "data": {
      "image/png": "[encoded data removed]",
      "text/plain": [
       "<Figure size 864x432 with 2 Axes>"
      ]
     },
     "metadata": {
      "needs_background": "light"
     },
     "output_type": "display_data"
    }
   ],
   "source": [
    "pca_df= pd.DataFrame(pca.components_,columns=[\"PC\"+str(i) for i in range(1,len(pca.components_)+1)])\n",
    "plt.figure(figsize=(12,6))\n",
    "sns.heatmap(pca_df, vmax=1., square=False, annot = True).xaxis.tick_top()"
   ]
  },
  {
   "cell_type": "code",
   "execution_count": null,
   "metadata": {},
   "outputs": [],
   "source": []
  }
 ],
 "metadata": {
  "kernelspec": {
   "display_name": "Python 3",
   "language": "python",
   "name": "python3"
  },
  "language_info": {
   "codemirror_mode": {
    "name": "ipython",
    "version": 3
   },
   "file_extension": ".py",
   "mimetype": "text/x-python",
   "name": "python",
   "nbconvert_exporter": "python",
   "pygments_lexer": "ipython3",
   "version": "3.7.6"
  }
 },
 "nbformat": 4,
 "nbformat_minor": 4
}
